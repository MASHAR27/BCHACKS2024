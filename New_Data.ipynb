{
  "nbformat": 4,
  "nbformat_minor": 0,
  "metadata": {
    "colab": {
      "provenance": [],
      "gpuType": "T4",
      "authorship_tag": "ABX9TyMlHDsoQMFNd3HF6all0qoT",
      "include_colab_link": true
    },
    "kernelspec": {
      "name": "python3",
      "display_name": "Python 3"
    },
    "language_info": {
      "name": "python"
    },
    "accelerator": "GPU"
  },
  "cells": [
    {
      "cell_type": "markdown",
      "metadata": {
        "id": "view-in-github",
        "colab_type": "text"
      },
      "source": [
        "<a href=\"https://colab.research.google.com/github/MASHAR27/BCHACKS2024/blob/main/New_Data.ipynb\" target=\"_parent\"><img src=\"https://colab.research.google.com/assets/colab-badge.svg\" alt=\"Open In Colab\"/></a>"
      ]
    },
    {
      "cell_type": "code",
      "source": [
        "!wget file.weasoft.com/trans2.seq"
      ],
      "metadata": {
        "colab": {
          "base_uri": "https://localhost:8080/"
        },
        "id": "v5L_T6jLf2uR",
        "outputId": "61cdfcd5-402f-42b1-d68c-948688eaf7d3"
      },
      "execution_count": 1,
      "outputs": [
        {
          "output_type": "stream",
          "name": "stdout",
          "text": [
            "--2024-01-28 00:48:35--  http://file.weasoft.com/trans2.seq\n",
            "Resolving file.weasoft.com (file.weasoft.com)... 149.28.13.194\n",
            "Connecting to file.weasoft.com (file.weasoft.com)|149.28.13.194|:80... connected.\n",
            "HTTP request sent, awaiting response... 200 OK\n",
            "Length: 66819385 (64M)\n",
            "Saving to: ‘trans2.seq’\n",
            "\n",
            "trans2.seq          100%[===================>]  63.72M   148MB/s    in 0.4s    \n",
            "\n",
            "2024-01-28 00:48:36 (148 MB/s) - ‘trans2.seq’ saved [66819385/66819385]\n",
            "\n"
          ]
        }
      ]
    },
    {
      "cell_type": "code",
      "execution_count": 2,
      "metadata": {
        "colab": {
          "base_uri": "https://localhost:8080/"
        },
        "id": "Db82JHnIf1vb",
        "outputId": "a5a97c3a-4dc7-4035-bc95-61f015d2c114"
      },
      "outputs": [
        {
          "output_type": "execute_result",
          "data": {
            "text/plain": [
              "torch.Size([1, 200, 128])"
            ]
          },
          "metadata": {},
          "execution_count": 2
        }
      ],
      "source": [
        "import torch\n",
        "import numpy as np\n",
        "\n",
        "# !pip install wandb\n",
        "device = 'cuda' if torch.cuda.is_available() else 'cpu'\n",
        "\n",
        "DIM = 512\n",
        "import math\n",
        "import torch.nn as nn\n",
        "class PositionalEncoding(nn.Module):\n",
        "\n",
        "    def __init__(self, d_model: int, dropout: float = 0.1, max_len: int = 5000):\n",
        "        super().__init__()\n",
        "        self.dropout = nn.Dropout(p=dropout)\n",
        "\n",
        "        position = torch.arange(max_len).unsqueeze(1)\n",
        "        div_term = torch.exp(torch.arange(0, d_model, 2) * (-math.log(10000.0) / d_model))\n",
        "        pe = torch.zeros(max_len, 1, d_model)\n",
        "        pe[:, 0, 0::2] = torch.sin(position * div_term)\n",
        "        pe[:, 0, 1::2] = torch.cos(position * div_term)\n",
        "        self.register_buffer('pe', pe)\n",
        "\n",
        "    def forward(self, x):\n",
        "        \"\"\"\n",
        "        Arguments:\n",
        "            x: Tensor, shape ``[seq_len, batch_size, embedding_dim]``\n",
        "        \"\"\"\n",
        "        x = x + self.pe[:x.size(0)].to(device)\n",
        "        return x\n",
        "#https://pytorch.org/tutorials/beginner/transformer_tutorial.html\n",
        "\n",
        "class Music(torch.nn.Module):\n",
        "  def __init__(self):\n",
        "    super().__init__()\n",
        "    self.pos = PositionalEncoding(DIM, max_len=201)#torch.nn.Embedding(200, DIM).to(device)\n",
        "    self.projection = torch.nn.Embedding(128, DIM).to(device)\n",
        "    self.trans = torch.nn.TransformerEncoder(torch.nn.TransformerEncoderLayer(DIM, 16, batch_first=True), 16).to(device)\n",
        "    self.output = torch.nn.Linear(DIM, 128).to(device)\n",
        "  def forward(self, x):\n",
        "    #pos = self.pos(torch.arange(0,200).to(device))\n",
        "    feature = self.projection(x)\n",
        "    feature = self.pos(feature)\n",
        "    feature = self.trans(feature, mask=torch.nn.Transformer.generate_square_subsequent_mask(200), is_causal=True)\n",
        "    return self.output(feature)\n",
        "model = Music()\n",
        "model(torch.rand(1,200).to(torch.int32).to(device)).shape\n"
      ]
    },
    {
      "cell_type": "code",
      "source": [
        "with open(\"trans2.seq\",\"r\") as f:\n",
        "  data=[[int(j) for j in i.split(\" \")[:200] if j!=\"\"] for i in f.read().split(\"\\n\") if len(i.split(\" \"))>=200]\n",
        "\n",
        "new_data = []\n",
        "for i in data:\n",
        "  if len(i)==200:\n",
        "    new_data.append(i)\n"
      ],
      "metadata": {
        "id": "mTcb9oXgf-Tb"
      },
      "execution_count": null,
      "outputs": []
    },
    {
      "cell_type": "code",
      "source": [
        "new_data = np.array(new_data)"
      ],
      "metadata": {
        "id": "TZzznCAhhU_i"
      },
      "execution_count": null,
      "outputs": []
    },
    {
      "cell_type": "code",
      "source": [
        "new_data.shape"
      ],
      "metadata": {
        "id": "S5A3lXv5hKED"
      },
      "execution_count": null,
      "outputs": []
    },
    {
      "cell_type": "code",
      "source": [
        "\n",
        "import pylab\n",
        "pylab.hist((new_data).flatten())"
      ],
      "metadata": {
        "id": "_ApW_vKlhgQd"
      },
      "execution_count": null,
      "outputs": []
    },
    {
      "cell_type": "code",
      "source": [
        "!pip install wandb"
      ],
      "metadata": {
        "id": "0PPAag5DhncX"
      },
      "execution_count": null,
      "outputs": []
    },
    {
      "cell_type": "code",
      "source": [
        "import wandb\n",
        "wandb.login()\n",
        "\n",
        "run = wandb.init(\n",
        "    project=\"ba-hacks\",\n",
        ")"
      ],
      "metadata": {
        "id": "Kv5P1GbahmrE"
      },
      "execution_count": null,
      "outputs": []
    },
    {
      "cell_type": "code",
      "source": [
        "BATCH_SIZE = 32\n",
        "\n",
        "import random\n",
        "def getdata():\n",
        "  data = random.choices(new_data, k=BATCH_SIZE)\n",
        "  data = np.array(data)\n",
        "  return np.concatenate((np.zeros((BATCH_SIZE,1)),data[:,:-1]), axis=1), data\n",
        "\n",
        "np.concatenate((np.zeros((10,1)),new_data[:10,:-1]), axis=1).shape"
      ],
      "metadata": {
        "id": "Bkki20HUgnXb"
      },
      "execution_count": null,
      "outputs": []
    },
    {
      "cell_type": "code",
      "source": [
        "loss_fn = torch.nn.CrossEntropyLoss(label_smoothing=0.5)\n",
        "optimizer = torch.optim.AdamW(model.parameters(), lr=2e-5)\n",
        "scheduler =  torch.optim.lr_scheduler.CosineAnnealingWarmRestarts(optimizer, len(new_data)//BATCH_SIZE*10)"
      ],
      "metadata": {
        "id": "9EYXfCV1h-nM"
      },
      "execution_count": null,
      "outputs": []
    },
    {
      "cell_type": "code",
      "source": [
        "model = model.to(device)\n",
        "runing_loss = 0\n",
        "count = 0\n",
        "for epoch in range(30):\n",
        "  for i in range(len(new_data)//BATCH_SIZE):\n",
        "    x, y = getdata()\n",
        "    x, y = torch.tensor(x).to(device).to(torch.int32), torch.tensor(y).to(device).to(torch.float32)\n",
        "    output = model(x)\n",
        "    loss = loss_fn(output, y)\n",
        "    loss.backward()\n",
        "    runing_loss += loss.item()\n",
        "    count += 1\n",
        "    if count==50:\n",
        "      wandb.log({\"loss\":runing_loss/50})\n",
        "      runing_loss = 0\n",
        "      count = 0\n",
        "    optimizer.step()\n",
        "    scheduler.step()\n",
        "torch.save(model, \"music.mod\")"
      ],
      "metadata": {
        "id": "nxpehxrTh5Kj"
      },
      "execution_count": null,
      "outputs": []
    }
  ]
}